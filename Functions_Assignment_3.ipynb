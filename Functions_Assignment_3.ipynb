{
  "nbformat": 4,
  "nbformat_minor": 0,
  "metadata": {
    "colab": {
      "provenance": [],
      "authorship_tag": "ABX9TyP+Bq63eTWnFGucH4391iso",
      "include_colab_link": true
    },
    "kernelspec": {
      "name": "python3",
      "display_name": "Python 3"
    },
    "language_info": {
      "name": "python"
    }
  },
  "cells": [
    {
      "cell_type": "markdown",
      "metadata": {
        "id": "view-in-github",
        "colab_type": "text"
      },
      "source": [
        "<a href=\"https://colab.research.google.com/github/ankit261995/python/blob/main/Functions_Assignment_3.ipynb\" target=\"_parent\"><img src=\"https://colab.research.google.com/assets/colab-badge.svg\" alt=\"Open In Colab\"/></a>"
      ]
    },
    {
      "cell_type": "code",
      "execution_count": null,
      "metadata": {
        "id": "Wxr313YTENxw"
      },
      "outputs": [],
      "source": [
        "# What is the difference between a function and a method in Python?"
      ]
    },
    {
      "cell_type": "markdown",
      "source": [
        "#ans. Difference between method and function\n",
        "\n",
        "Simply, function and method both look similar as they perform in almost similar way, but the key difference is the concept of ‘Class and its Object‘.\n",
        "Functions can be called only by its name, as it is defined independently. But methods can’t be called by its name only, we need to invoke the class by a reference of that class in which it is defined, i.e. method is defined within a class and hence they are dependent on that class.\n",
        "#Function is block of code that is also called by its name. (independent)\n",
        "The function can have different parameters or may not have any at all. If any data (parameters) are passed, they are passed explicitly.\n",
        "It may or may not return any data.\n",
        "Function does not deal with Class and its instance concept.\n",
        "#Basic Function Structure in Python :\n",
        "def function_name ( arg1, arg2, ...) :\n",
        "\t......\n",
        "\t# function body\n",
        "\t......\n",
        "#User-Defined Function :\n",
        "def Subtract (a, b):\n",
        "\treturn (a-b)\n",
        "\n",
        "print( Subtract(10, 12) ) # prints -2\n",
        "\n",
        "print( Subtract(15, 6) ) # prints 9\n",
        "#Output:\n",
        "\n",
        "-2\n",
        "9\n",
        "# Inbuilt Function\n",
        "s = sum([5, 15, 2])\n",
        "print( s ) # prints 22\n",
        "\n",
        "mx = max(15, 6)\n",
        "print( mx ) # prints 15\n",
        "#Output:\n",
        "\n",
        "22\n",
        "15\n",
        "#Python Method\n",
        "\n",
        "Method is called by its name, but it is associated to an object (dependent).\n",
        "A method definition always includes ‘self’ as its first parameter.\n",
        "A method is implicitly passed to the object on which it is invoked.\n",
        "It may or may not return any data.\n",
        "A method can operate on the data (instance variables) that is contained by the corresponding class\n",
        "#Basic Method Structure in Python :\n",
        "# Basic Python method\n",
        "class class_name\n",
        "\tdef method_name () :\n",
        "\t\t......\n",
        "\t\t# method body\n",
        "\t\t......\n",
        "#User-Defined Method :\n",
        "# Python 3 User-Defined Method\n",
        "class ABC :\n",
        "\tdef method_abc (self):\n",
        "\t\tprint(\"I am in method_abc of ABC class. \")\n",
        "\n",
        "class_ref = ABC() # object of ABC class\n",
        "class_ref.method_abc()\n",
        "#Output:\n",
        "\n",
        " I am in method_abc of ABC class\n",
        " #Inbuilt method :\n",
        " import math\n",
        "\n",
        "ceil_val = math.ceil(15.25)\n",
        "print( \"Ceiling value of 15.25 is : \", ceil_val)\n",
        "#Output:\n",
        "\n",
        "Ceiling value of 15.25 is :  16\n"
      ],
      "metadata": {
        "id": "0Hr8ZMtTMQhm"
      }
    },
    {
      "cell_type": "code",
      "source": [
        "#Explain the concept of function arguments and parameters in Python."
      ],
      "metadata": {
        "id": "W6BQJ2RgPh54"
      },
      "execution_count": null,
      "outputs": []
    },
    {
      "cell_type": "markdown",
      "source": [
        "#ans. Parameters and Arguments in Python\n",
        "#There is always a little confusion among budding developers between a parameter and an argument, this article focuses to clarify the difference between them and help you to use them effectively.\n",
        "\n",
        "#Parameters:\n",
        "A parameter is the variable defined within the parentheses during function definition. Simply they are written when we declare a function.\n",
        "\n",
        "#Example:\n",
        "# Here a,b are the parameters\n",
        "def sum(a,b):\n",
        "  print(a+b)\n",
        "  \n",
        "sum(1,2)\n",
        "#Output:\n",
        "\n",
        "3\n",
        "#Arguments:\n",
        "An argument is a value that is passed to a function when it is called. It might be a variable, value or object passed to a function or method as input. They are written when we are calling the function.\n",
        "\n",
        "#Example:\n",
        "def sum(a,b):\n",
        "  print(a+b)\n",
        "  \n",
        "# Here the values 1,2 are arguments\n",
        "sum(1,2)\n",
        "#Output\n",
        "\n",
        "3"
      ],
      "metadata": {
        "id": "vnd1gMzJQT0R"
      }
    },
    {
      "cell_type": "code",
      "source": [
        "# What are the different ways to define and call a function in Python?"
      ],
      "metadata": {
        "id": "tcjhsu_DSJFX"
      },
      "execution_count": null,
      "outputs": []
    },
    {
      "cell_type": "markdown",
      "source": [
        "#ans. In Python, you define a function with the def keyword, then write the function identifier (name) followed by parentheses and a colon.\n",
        "\n",
        "The next thing you have to do is make sure you indent with a tab or 4 spaces, and then specify what you want the function to do for you.\n",
        "def functionName():\n",
        "    # What to make the function do\n",
        "#Basic Examples of a Function in Python\n",
        "Following the basic syntax above, an example of a basic Python function printing “Hello World” to the terminal looks like this:\n",
        "def myfunction():\n",
        "    print(\"Hello World\")\n",
        "#To call this function, write the name of the function followed by parentheses:\n",
        "myfunction()"
      ],
      "metadata": {
        "id": "TDAcN35sSVEW"
      }
    },
    {
      "cell_type": "code",
      "source": [
        "#What is the purpose of the `return` statement in a Python function?"
      ],
      "metadata": {
        "id": "xSADwIX_TQww"
      },
      "execution_count": null,
      "outputs": []
    },
    {
      "cell_type": "markdown",
      "source": [
        "#ans. Python return statement\n",
        "\n",
        "A return statement is used to end the execution of the function call and “returns” the result (value of the expression following the return keyword) to the caller. The statements after the return statements are not executed. If the return statement is without any expression, then the special value None is returned. A return statement is overall used to invoke a function so that the passed statements can be executed.\n",
        "\n",
        "\n",
        "#Note: Return statement can not be used outside the function.\n",
        "\n",
        "#Syntax:\n",
        "def fun():\n",
        "    statements\n",
        "    .\n",
        "    .\n",
        "    return [expression]\n",
        "\n",
        "#Example:\n",
        "\n",
        "def cube(x):\n",
        "   r=x**3\n",
        "   return r\n",
        "\n",
        "#Example:\n",
        "\n",
        "# Python program to\n",
        "# demonstrate return statement\n",
        "\n",
        "def add(a, b):\n",
        "\n",
        "    # returning sum of a and b\n",
        "    return a + b\n",
        "\n",
        "def is_true(a):\n",
        "\n",
        "    # returning boolean of a\n",
        "    return bool(a)\n",
        "\n",
        "# calling function\n",
        "res = add(2, 3)\n",
        "print(\"Result of add function is {}\".format(res))\n",
        "\n",
        "res = is_true(2<5)\n",
        "print(\"\\nResult of is_true function is {}\".format(res))\n",
        "\n",
        "#Output:\n",
        "\n",
        "Result of add function is 5\n",
        "\n",
        "Result of is_true function is True\n",
        "\n"
      ],
      "metadata": {
        "id": "CKSqGR3VTczV"
      }
    },
    {
      "cell_type": "code",
      "source": [
        "# What are iterators in Python and how do they differ from iterables?"
      ],
      "metadata": {
        "id": "XJxrf2GTWh6y"
      },
      "execution_count": null,
      "outputs": []
    },
    {
      "cell_type": "markdown",
      "source": [
        "#ans. Python | Difference between iterable and iterator\n",
        "#Iterable is an object, that one can iterate over. It generates an Iterator when passed to iter() method.\n",
        "# An iterator is an object, which is used to iterate over an iterable object using the __next__() method. Iterators have the __next__() method, which returns the next item of the object.\n",
        "\n",
        "Note: Every iterator is also an iterable, but not every iterable is an iterator in Python.\n",
        "\n",
        "For example, a list is iterable but a list is not an iterator. An iterator can be created from an iterable by using the function iter(). To make this possible, the class of an object needs either a method __iter__, which returns an iterator, or a __getitem__ method with sequential indexes starting with 0.\n",
        "\n",
        "#Example 1:\n",
        "We know that str is iterable but it is not an iterator. where if we run this in for loop to print string then it is possible because when for loop executes it converts into an iterator to execute the code.\n",
        "\n",
        "# code\n",
        "next(\"GFG\")\n",
        "\n",
        "#Output :\n",
        "\n",
        "Traceback (most recent call last):\n",
        "  File \"/home/1c9622166e9c268c0d67cd9ba2177142.py\", line 2, in <module>\n",
        "    next(\"GFG\")\n",
        "TypeError: 'str' object is not an iterator"
      ],
      "metadata": {
        "id": "cbfOvO_AW0BB"
      }
    },
    {
      "cell_type": "code",
      "source": [
        "# Explain the concept of generators in Python and how they are defined."
      ],
      "metadata": {
        "id": "II1QtojgYRAy"
      },
      "execution_count": null,
      "outputs": []
    },
    {
      "cell_type": "markdown",
      "source": [
        "#ans. Generators in Python\n",
        "A Generator in Python is a function that returns an iterator using the Yield keyword. In this article, we will discuss how the generator function works in Python.\n",
        "\n",
        "Generator Function in Python\n",
        "A generator function in Python is defined like a normal function, but whenever it needs to generate a value, it does so with the yield keyword rather than return. If the body of a def contains yield, the function automatically becomes a Python generator function.\n",
        "\n",
        "Create a Generator in Python\n",
        "In Python, we can create a generator function by simply using the def keyword and the yield keyword. The generator has the following syntax in Python:\n",
        "\n",
        "def function_name():\n",
        "    yield statement\n",
        "\n",
        "#Example:\n",
        "\n",
        "In this example, we will create a simple generator that will yield three integers. Then we will print these integers by using Python for loop.\n",
        "\n",
        "# A generator function that yields 1 for first time,\n",
        "# 2 second time and 3 third time\n",
        "def simpleGeneratorFun():\n",
        "    yield 1            \n",
        "    yield 2            \n",
        "    yield 3            \n",
        "\n",
        "# Driver code to check above generator function\n",
        "for value in simpleGeneratorFun():\n",
        "    print(value)\n",
        "\n",
        "\n",
        "#Output:\n",
        "\n",
        "1\n",
        "2\n",
        "3\n"
      ],
      "metadata": {
        "id": "lz8LmUltYntd"
      }
    },
    {
      "cell_type": "code",
      "source": [
        "# What are the advantages of using generators over regular functions?"
      ],
      "metadata": {
        "id": "KXCnVYM0YmXV"
      },
      "execution_count": null,
      "outputs": []
    },
    {
      "cell_type": "markdown",
      "source": [
        "#ans. Generators and regular functions in Python are different in how they operate. Regular functions use the return keyword to return a single result and terminate execution. In contrast, generators use the yield keyword to produce a sequence of values lazily. Generators can yield multiple values over successive calls to the next() function or through iteration, whereas regular functions return only once. This feature of generators enables them to efficiently handle large datasets or infinite sequences without consuming excessive memory."
      ],
      "metadata": {
        "id": "MbE49SxjcZ1Y"
      }
    },
    {
      "cell_type": "code",
      "source": [
        "# What is a lambda function in Python and when is it typically used?"
      ],
      "metadata": {
        "id": "ILlrfuofc0Kw"
      },
      "execution_count": null,
      "outputs": []
    },
    {
      "cell_type": "markdown",
      "source": [
        "#ans. Python Lambda Functions\n",
        "Python Lambda Functions are anonymous functions means that the function is without a name. As we already know the def keyword is used to define a normal function in Python. Similarly, the lambda keyword is used to define an anonymous function in Python.\n",
        "\n",
        "Python Lambda Function Syntax\n",
        "Syntax: lambda arguments : expression\n",
        "\n",
        "This function can have any number of arguments but only one expression, which is evaluated and returned.\n",
        "One is free to use lambda functions wherever function objects are required.\n",
        "You need to keep in your knowledge that lambda functions are syntactically restricted to a single expression.\n",
        "It has various uses in particular fields of programming, besides other types of expressions in functions.\n",
        "\n",
        "#Python Lambda Function Example\n",
        "In the example, we defined a lambda function(upper) to convert a string to its upper case using upper().\n",
        "\n",
        "This code defines a lambda function named upper that takes a string as its argument and converts it to uppercase using the upper() method. It then applies this lambda function to the string ‘GeeksforGeeks’ and prints the result\n",
        "\n",
        "str1 = 'GeeksforGeeks'\n",
        "\n",
        "upper = lambda string: string.upper()\n",
        "print(upper(str1))\n",
        "\n",
        "#Output:\n",
        "\n",
        "GEEKSFORGEEKS"
      ],
      "metadata": {
        "id": "nXbmrIkPc5Kh"
      }
    },
    {
      "cell_type": "code",
      "source": [
        "# Explain the purpose and usage of the `map()` function in Python."
      ],
      "metadata": {
        "id": "aqvV70yCgCde"
      },
      "execution_count": null,
      "outputs": []
    },
    {
      "cell_type": "markdown",
      "source": [
        "#ans. Python map() function\n",
        "map() function returns a map object(which is an iterator) of the results after applying the given function to each item of a given iterable (list, tuple etc.)\n",
        "\n",
        "Python map() Function Syntax\n",
        "Syntax : map(fun, iter)\n",
        "\n",
        "Parameters:\n",
        "\n",
        "fun: It is a function to which map passes each element of given iterable.\n",
        "iter: It is iterable which is to be mapped.\n",
        "NOTE: You can pass one or more iterable to the map() function.\n",
        "\n",
        "Returns: Returns a list of the results after applying the given function to each item of a given iterable (list, tuple etc.)\n",
        "\n",
        "NOTE : The returned value from map() (map object) then can be passed to functions like list() (to create a list), set() (to create a set) .\n",
        "\n",
        "There are many more functions like map() functions that are basic concepts of python . These are building blocks for data manipulation and to learn advanced techniques in data science and machine learning, checkout our course Complete Machine Learning & Data Science Program . This course covers everything from basic Python functions to complex machine learning algorithms, equipping you with the skills needed to excel in the field.\n",
        "\n",
        "map() in Python Examples\n",
        "Demonstration of map() in Python\n",
        "In this example, we are demonstrating the map() function in Python .\n",
        "\n",
        "# Python program to demonstrate working\n",
        "# of map.\n",
        "\n",
        "# Return double of n\n",
        "def addition(n):\n",
        "    return n + n\n",
        "\n",
        "# We double all numbers using map()\n",
        "numbers = (1, 2, 3, 4)\n",
        "result = map(addition, numbers)\n",
        "print(list(result))\n",
        "#Output\n",
        "[2, 4, 6, 8]\n"
      ],
      "metadata": {
        "id": "5kxlDvkjgQA0"
      }
    },
    {
      "cell_type": "code",
      "source": [
        "# What is the difference between `map()`, `reduce()`, and `filter()` functions in Python?"
      ],
      "metadata": {
        "id": "l3tm8ggdhidZ"
      },
      "execution_count": null,
      "outputs": []
    },
    {
      "cell_type": "markdown",
      "source": [
        "#ans. Map Reduce and Filter Operations in Python\n",
        "\n",
        "In this article, we will study Map, Reduce, and Filter Operations in Python. These three operations are paradigms of functional programming. They allow one to write simpler, shorter code without needing to bother about intricacies like loops and branching. In this article, we will see Map Reduce and Filter Operations in Python.\n",
        "\n",
        "Map Reduce and Filter Operations in Python\n",
        "Below, are examples of Map Reduce and Filter Operations in Python:\n",
        "\n",
        "map() Function\n",
        "Reduce() Function\n",
        "Filter() Function\n",
        "\n",
        "#Map Function in Python\n",
        "\n",
        "The map () function returns a map object(which is an iterator) of the results after applying the given function to each item of a given iterable (list, tuple, etc.).\n",
        "\n",
        "Syntax: map(fun, iter)\n",
        "\n",
        "Parameters:\n",
        "\n",
        "fun: It is a function to which map passes each element of given iterable.\n",
        "iter: iterable object to be mapped.\n",
        "\n",
        "Example: In this example, Python program showcases the usage of the map function to double each number in a given list by applying the double function to each element, and then printing the result as a list.\n",
        "\n",
        "# Function to return double of n\n",
        "def double(n):\n",
        "    return n * 2\n",
        "\n",
        "# Using map to double all numbers\n",
        "numbers = [5, 6, 7, 8]\n",
        "result = map(double, numbers)\n",
        "print(list(result))\n",
        "\n",
        "#Output\n",
        "[10, 12, 14, 16]\n",
        "\n",
        "\n",
        "#Reduce Function in Python\n",
        "\n",
        "The reduce function is used to apply a particular function passed in its argument to all of the list elements mentioned in the sequence passed along.This function is defined in “functools” module.\n",
        "\n",
        "Syntax: reduce(func, iterable[, initial])\n",
        "\n",
        "Parameters:\n",
        "\n",
        "fun: It is a function to execuate on each element of the iterable objec\n",
        "iter: It is iterable to be reduced\n",
        "\n",
        "Example : In this example, we are using reduce() function from the functools module to compute the product of elements in a given list by continuously applying the lambda function that multiplies two numbers together, resulting in the final product.\n",
        "\n",
        "import functools\n",
        "\n",
        "# Define a list of numbers\n",
        "numbers = [1, 2, 3, 4]\n",
        "\n",
        "# Use reduce to compute the product of list elements\n",
        "product = functools.reduce(lambda x, y: x * y, numbers)\n",
        "print(\"Product of list elements:\", product)\n",
        "\n",
        "#Output\n",
        "Product of list elements: 24\n",
        "\n",
        "\n",
        "#Filter Function in Python\n",
        "The filter() method filters the given sequence with the help of a function that tests each element in the sequence to be true or not.\n",
        "\n",
        "Syntax: filter(function, sequence)\n",
        "\n",
        "Parameters:\n",
        "\n",
        "function: function that tests if each element of a sequence is true or not.\n",
        "sequence: sequence which needs to be filtered, it can be sets, lists, tuples, or containers of any iterators.\n",
        "\n",
        "Example : In this example, we defines a function is_even to check whether a number is even or not. Then, it applies the filter() function to a list of numbers to extract only the even numbers, resulting in a list containing only the even elements. Finally, it prints the list of even numbers.\n",
        "\n",
        "# Define a function to check if a number is even\n",
        "def is_even(n):\n",
        "    return n % 2 == 0\n",
        "\n",
        "# Define a list of numbers\n",
        "numbers = [1, 2, 3, 4, 5, 6, 7, 8, 9, 10]\n",
        "\n",
        "# Use filter to filter out even numbers\n",
        "even_numbers = filter(is_even, numbers)\n",
        "print(\"Even numbers:\", list(even_numbers))  \n",
        "\n",
        "#Output\n",
        "Even numbers: [2, 4, 6, 8, 10]\n",
        "\n"
      ],
      "metadata": {
        "id": "q_UEMBJshwfA"
      }
    },
    {
      "cell_type": "code",
      "source": [
        "#. Using pen & Paper write the internal mechanism for sum operation using  reduce function on this given\n",
        "list:[47,11,42,13];"
      ],
      "metadata": {
        "id": "lu7EBUEzkKaz"
      },
      "execution_count": null,
      "outputs": []
    },
    {
      "cell_type": "markdown",
      "source": [
        "#ans. The Internal Mechanism for Sum apuration using\n",
        "Meduce function list: [47,11,42, 13)\n",
        "\n",
        "using the list [41,11,72, 15] the educe function pearming the fallowing steps:\n",
        "Initial value: the finet two element are topen from value list 47f 11.\n",
        "\n",
        "27 flivst aperation\n",
        "•Y add 47+11 → 58\n",
        "\n",
        "3/ Second apation :\n",
        "Tadd 58+42 → 100\n",
        "\n",
        "4Y THIED apoation:\n",
        "add 100+13 → 113\n",
        "→ FiNAL INpUT → 115\n",
        "\n",
        "Example\n",
        ": bum the lint [47, 71, 42, 13] using funchion .\n",
        "tu vealk\n",
        "\n",
        "→ From Punctods Import Reduce\n",
        "\n",
        "• numbers = [11, 11, 42, 13]\n",
        "sult = adal (add, number) meduce.\n",
        "\" Print wesult # autpat will be 113."
      ],
      "metadata": {
        "id": "3TWjVF94kaiV"
      }
    },
    {
      "cell_type": "code",
      "source": [],
      "metadata": {
        "id": "go7mnd99nDAF"
      },
      "execution_count": null,
      "outputs": []
    }
  ]
}