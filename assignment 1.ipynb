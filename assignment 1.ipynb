{
 "cells": [
  {
   "cell_type": "raw",
   "id": "4be43c1d-b53d-4b54-860b-e0754ff2ca64",
   "metadata": {},
   "source": [
    "Assignment"
   ]
  },
  {
   "cell_type": "code",
   "execution_count": 1,
   "id": "0205ae70-1b69-4ee8-bcf3-bda1d5c101c9",
   "metadata": {},
   "outputs": [],
   "source": [
    "#Q. Explain the key features of Python that make it a popular choice for programming"
   ]
  },
  {
   "cell_type": "raw",
   "id": "748465cb-82c8-4f49-98a7-72859d60f6bc",
   "metadata": {
    "tags": []
   },
   "source": [
    "#ans 1. Portable Language\n",
    "It is a cross-platform language. It can run on Linux, macOS, and Windows. For example, you can run the Python code for Windows in Linux or macOS, too.\n",
    "\n",
    "#2. Standard Library\n",
    "It offers various modules like operators, mathematical functions, libraries such as NumPy, Pandas, Tensorflow, etc., and packages paving the way for the developers to save time to avoid re-writing the codes from scratch. To provide more functionality and packages, they also provide Python Package Index.\n",
    "\n",
    "#3. High-Level Language\n",
    "It is a high-level, general-purpose programming language. Unlike machine language like C, C++, It is a human-readable language. In other words, even a layman can understand the programs.\n",
    "\n",
    "#4. Easy to learn and use\n",
    "It is easy to understand and easy to code, and anyone can learn Python within a few days. For example, a simple Python program to add two numbers is as follows:\n",
    "\n",
    "a = 8\n",
    "b = 9\n",
    "print(a+b)\n",
    "\n",
    "We have completed this program within three lines. Whereas in Java, C++ and C, it takes more lines. That is why Python is known as an easy and precise language.\n",
    "\n",
    "#5. Dynamic Language\n",
    "Declaring the type of a variable is not needed. For example, let us declare an integer number 7 for a variable a. Rather than declare it as:\n",
    "\n",
    "int a = 7 ( this is necessary for statically-typed language like C)\n",
    "We declare it as\n",
    "a = 7\n",
    "\n",
    "But, the programmers have to be careful regarding runtime errors.\n",
    "\n",
    "#6. Extensible Language\n",
    "Code can be used to compile in C or C++ language so that it can be utilized for our Python code. This is achieved because it converts the program to byte code.\n",
    "\n",
    "#7. Interpreted Language\n",
    "Line-by-line execution of source code, converted into byte code; thus, compiling the code is not necessary, making it easy to debug if required.\n",
    "\n",
    "#8. Object-Oriented Programming Language\n",
    "It supports procedural, functional, structural, and also object-oriented language such as abstraction, encapsulation, inheritance, and polymorphism which is considered important by the Python coder.\n",
    "\n",
    "#9. Free and Open-source libraries\n",
    "It is a free open-source platform that can be downloaded easily from their Official Website.\n",
    "\n",
    "#10. Support is provided for Graphical User Interface\n",
    "Lots of Graphical User Interface frameworks are available in Python, thus helping the software user, and it sticks to platform-specific technologies. It can be used in software development, web development, etc"
   ]
  },
  {
   "cell_type": "code",
   "execution_count": null,
   "id": "5fb9e0df-6f97-44dc-b31b-dc04813ae76d",
   "metadata": {},
   "outputs": [],
   "source": []
  },
  {
   "cell_type": "code",
   "execution_count": null,
   "id": "32d75125-4021-4031-ba85-05ee5490b8c4",
   "metadata": {},
   "outputs": [],
   "source": [
    "#Q. Describe the role of predefined keywords in Python and provide examples of how they are used in a \n",
    "program"
   ]
  },
  {
   "cell_type": "code",
   "execution_count": null,
   "id": "da66f39d-19de-4a67-ba6f-312032e2b9f2",
   "metadata": {},
   "outputs": [],
   "source": [
    "#ans. Python keywords are special reserved words that have specific meanings and purposes and can’t be used for anything but those specific purposes. These keywords are always available—you’ll never have to import them into your code."
   ]
  },
  {
   "cell_type": "code",
   "execution_count": 3,
   "id": "80bd03a5-c04e-45c1-b43b-b5b6ac659f7d",
   "metadata": {},
   "outputs": [],
   "source": [
    "# example print is only used to print a statement . it cannot be useed as identifier."
   ]
  },
  {
   "cell_type": "code",
   "execution_count": 5,
   "id": "dc1baedd-25bc-4d0b-9e61-d006c3f3c198",
   "metadata": {},
   "outputs": [
    {
     "name": "stdout",
     "output_type": "stream",
     "text": [
      "hello ankit\n"
     ]
    }
   ],
   "source": [
    "print (\"hello ankit\")"
   ]
  },
  {
   "cell_type": "code",
   "execution_count": null,
   "id": "70fae43f-50d8-44e7-9769-8bdf5f22cd8b",
   "metadata": {},
   "outputs": [],
   "source": []
  },
  {
   "cell_type": "code",
   "execution_count": 6,
   "id": "8413fec3-37b0-4f39-90d1-798f007e795a",
   "metadata": {},
   "outputs": [],
   "source": [
    "#Q. Compare and contrast mutable and immutable objects in Python with examples"
   ]
  },
  {
   "cell_type": "code",
   "execution_count": null,
   "id": "9a87c1bd-233f-4227-a5ca-cef2d151cbbf",
   "metadata": {},
   "outputs": [],
   "source": [
    "#ans Python, being a dynamically-typed language, offers a variety of mutable and immutable objects. Lists, dictionaries, and sets are instances of mutable objects, while numbers, strings, and tuples are instances of immutable objects."
   ]
  },
  {
   "cell_type": "code",
   "execution_count": 7,
   "id": "ce1cb1ab-919d-419f-b59d-7eb6da45205b",
   "metadata": {},
   "outputs": [],
   "source": [
    "#ex\n",
    "#list\n",
    "list = [1,2,3]\n",
    "list[0] = 'a'"
   ]
  },
  {
   "cell_type": "code",
   "execution_count": 8,
   "id": "71611826-9e64-4799-9a60-d34ebc49788b",
   "metadata": {},
   "outputs": [
    {
     "data": {
      "text/plain": [
       "['a', 2, 3]"
      ]
     },
     "execution_count": 8,
     "metadata": {},
     "output_type": "execute_result"
    }
   ],
   "source": [
    "list"
   ]
  },
  {
   "cell_type": "code",
   "execution_count": 11,
   "id": "e75b56ce-dfcd-4d44-9eb8-7598595258dd",
   "metadata": {},
   "outputs": [
    {
     "data": {
      "text/plain": [
       "{'name': 'ankit', 'age': 30}"
      ]
     },
     "execution_count": 11,
     "metadata": {},
     "output_type": "execute_result"
    }
   ],
   "source": [
    "#dictionary\n",
    "dict = {'name' : 'ankit', 'age' : 29}\n",
    "dict['age'] = 30\n",
    "dict"
   ]
  },
  {
   "cell_type": "code",
   "execution_count": 12,
   "id": "e8e51348-00b1-4e31-8fa4-1f3d0e2ad476",
   "metadata": {},
   "outputs": [
    {
     "data": {
      "text/plain": [
       "{1, 2, 3, 4}"
      ]
     },
     "execution_count": 12,
     "metadata": {},
     "output_type": "execute_result"
    }
   ],
   "source": [
    "#set\n",
    "set = {1,2,3}\n",
    "set.add(4)\n",
    "set"
   ]
  },
  {
   "cell_type": "code",
   "execution_count": null,
   "id": "68851232-6bde-4cfd-b6bf-62b466858348",
   "metadata": {},
   "outputs": [],
   "source": []
  },
  {
   "cell_type": "code",
   "execution_count": null,
   "id": "2d3f03b3-942e-42fb-a037-d672b452c3c3",
   "metadata": {},
   "outputs": [],
   "source": [
    "# Discuss the different types of operators in Python and provide examples of how they are used\n"
   ]
  },
  {
   "cell_type": "code",
   "execution_count": null,
   "id": "e112bdb0-f9bf-47c4-ba94-fb878f690d82",
   "metadata": {},
   "outputs": [],
   "source": [
    "# Types of Python Operators\n",
    "Python language supports various types of operators, which are:\n",
    "1 Arithmetic Operators\n",
    "2 Comparison (Relational) Operators\n",
    "3 Assignment Operators\n",
    "4 Logical Operators\n",
    "5 Bitwise Operators\n",
    "6 Membership Operators\n",
    "7 Identity Operators\n"
   ]
  },
  {
   "cell_type": "code",
   "execution_count": 1,
   "id": "5fbef1f2-6dd2-4462-888f-03518dbc08c3",
   "metadata": {},
   "outputs": [
    {
     "name": "stdout",
     "output_type": "stream",
     "text": [
      "a + b :  31\n",
      "a - b :  11\n",
      "a * b :  210\n",
      "a / b :  2.1\n",
      "a % b :  1\n",
      "a ** b :  16679880978201\n",
      "a // b :  2\n"
     ]
    }
   ],
   "source": [
    "#Example of Python Arithmetic Operators\n",
    "a = 21\n",
    "b = 10\n",
    "# Addition\n",
    "print (\"a + b : \", a + b)\n",
    "# Subtraction\n",
    "print (\"a - b : \", a - b)\n",
    "# Multiplication\n",
    "print (\"a * b : \", a * b)\n",
    "# Division\n",
    "print (\"a / b : \", a / b)\n",
    "# Modulus\n",
    "print (\"a % b : \", a % b)\n",
    "# Exponent\n",
    "print (\"a ** b : \", a ** b)\n",
    "# Floor Division\n",
    "print (\"a // b : \", a // b)\n"
   ]
  },
  {
   "cell_type": "code",
   "execution_count": 3,
   "id": "572738a3-fc44-4bbf-b1a8-260e6decf0de",
   "metadata": {},
   "outputs": [
    {
     "name": "stdout",
     "output_type": "stream",
     "text": [
      "a == b :  False\n",
      "a != b :  True\n",
      "a > b :  False\n",
      "a < b :  True\n",
      "a >= b :  False\n",
      "a <= b :  True\n"
     ]
    }
   ],
   "source": [
    "# Python Comparison Operators\n",
    "a = 4\n",
    "b = 5\n",
    "# Equal\n",
    "print (\"a == b : \", a == b)\n",
    "# Not Equal\n",
    "print (\"a != b : \", a != b)\n",
    "# Greater Than\n",
    "print (\"a > b : \", a > b)\n",
    "# Less Than\n",
    "print (\"a < b : \", a < b)\n",
    "# Greater Than or Equal to\n",
    "print (\"a >= b : \", a >= b)\n",
    "# Less Than or Equal to\n",
    "print (\"a <= b : \", a <= b)\n"
   ]
  },
  {
   "cell_type": "code",
   "execution_count": 4,
   "id": "f6be0551-48dd-4b6a-9697-4861c00188b5",
   "metadata": {},
   "outputs": [
    {
     "name": "stdout",
     "output_type": "stream",
     "text": [
      "a += 5 :  15\n",
      "a -= 5 :  10\n",
      "a *= 5 :  50\n",
      "a /= 5 :  10.0\n",
      "a %= 3 :  1.0\n",
      "a **= 2 :  1.0\n",
      "a //= 3 :  0.0\n"
     ]
    }
   ],
   "source": [
    "#Python Assignment Operators\n",
    "# Assignment Operator\n",
    "a = 10\n",
    "# Addition Assignment\n",
    "a += 5\n",
    "print (\"a += 5 : \", a)\n",
    "# Subtraction Assignment\n",
    "a -= 5\n",
    "print (\"a -= 5 : \", a)\n",
    "# Multiplication Assignment\n",
    "a *= 5\n",
    "print (\"a *= 5 : \", a)\n",
    "# Division Assignment\n",
    "a /= 5\n",
    "print (\"a /= 5 : \",a)\n",
    "# Remainder Assignment\n",
    "a %= 3\n",
    "print (\"a %= 3 : \", a)\n",
    "# Exponent Assignment\n",
    "a **= 2\n",
    "print (\"a **= 2 : \", a)\n",
    "# Floor Division Assignment\n",
    "a //= 3\n",
    "print (\"a //= 3 : \", a)"
   ]
  },
  {
   "cell_type": "code",
   "execution_count": 5,
   "id": "6944e1a7-31d2-4879-a206-570bd2de14f7",
   "metadata": {},
   "outputs": [
    {
     "name": "stdout",
     "output_type": "stream",
     "text": [
      "a & b :  12\n",
      "a | b :  61\n",
      "a ^ b :  49\n",
      "~a :  -61\n",
      "a << 2 :  240\n",
      "a >> 2 :  15\n"
     ]
    }
   ],
   "source": [
    "#Python Bitwise Operators\n",
    "a = 60 # 60 = 0011 1100\n",
    "b = 13 # 13 = 0000 1101\n",
    "# Binary AND\n",
    "c = a & b # 12 = 0000 1100\n",
    "print (\"a & b : \", c)\n",
    "# Binary OR\n",
    "c = a | b # 61 = 0011 1101\n",
    "print (\"a | b : \", c)\n",
    "# Binary XOR\n",
    "c = a ^ b # 49 = 0011 0001\n",
    "print (\"a ^ b : \", c)\n",
    "# Binary Ones Complement\n",
    "c = ~a; # -61 = 1100 0011\n",
    "print (\"~a : \", c)\n",
    "# Binary Left Shift\n",
    "c = a << 2; # 240 = 1111 0000\n",
    "print (\"a << 2 : \", c)\n",
    "# Binary Right Shift\n",
    "c = a >> 2; # 15 = 0000 1111\n",
    "print (\"a >> 2 : \", c)"
   ]
  },
  {
   "cell_type": "code",
   "execution_count": 6,
   "id": "19398d12-787e-43b8-96d7-caf1650a1e3c",
   "metadata": {},
   "outputs": [
    {
     "name": "stdout",
     "output_type": "stream",
     "text": [
      "Both x and y are within the specified range\n"
     ]
    }
   ],
   "source": [
    "# Python Logical Operators\n",
    "x = 5\n",
    "y = 10\n",
    "if x > 3 and y < 15:\n",
    "  print(\"Both x and y are within the specified range\")"
   ]
  },
  {
   "cell_type": "code",
   "execution_count": 7,
   "id": "7da50075-9057-4540-b2ce-60e30169eba4",
   "metadata": {},
   "outputs": [
    {
     "name": "stdout",
     "output_type": "stream",
     "text": [
      "Yes, banana is a fruit!\n"
     ]
    }
   ],
   "source": [
    "#Python Membership Operators\n",
    "fruits = [\"apple\", \"banana\", \"cherry\"]\n",
    "if \"banana\" in fruits:\n",
    "    print(\"Yes, banana is a fruit!\")\n",
    "else:\n",
    "    print(\"No, banana is not a fruit!\")"
   ]
  },
  {
   "cell_type": "code",
   "execution_count": 8,
   "id": "2e926d95-6550-47ba-a86a-bf54f69ef479",
   "metadata": {},
   "outputs": [
    {
     "name": "stdout",
     "output_type": "stream",
     "text": [
      "x and y are not the same object\n"
     ]
    }
   ],
   "source": [
    "# Python Identity Operators\n",
    "x = 10\n",
    "y = 5\n",
    "if x is y:\n",
    "    print(\"x and y are the same object\")\n",
    "else:\n",
    "    print(\"x and y are not the same object\")"
   ]
  },
  {
   "cell_type": "code",
   "execution_count": 9,
   "id": "a4e6d43a-6f5e-46df-aa3d-4be602c6181a",
   "metadata": {},
   "outputs": [],
   "source": [
    "#Q.  Explain the concept of type casting in Python with example"
   ]
  },
  {
   "cell_type": "code",
   "execution_count": 10,
   "id": "57b77924-b77a-417c-82b1-e61ad12c4df3",
   "metadata": {},
   "outputs": [],
   "source": [
    "#ans Type Casting is the method to convert the Python variable datatype into a certain data type in order to perform the required operation by users. In this article, we will see the various techniques for typecasting. There can be two types of Type Casting in Python:\n",
    "\n",
    "#Python Implicit Type Conversion\n",
    "#Python Explicit Type Conversion"
   ]
  },
  {
   "cell_type": "code",
   "execution_count": 11,
   "id": "b90f4470-05ae-41ee-9cfb-39d5a69590a6",
   "metadata": {},
   "outputs": [
    {
     "name": "stdout",
     "output_type": "stream",
     "text": [
      "<class 'int'>\n",
      "<class 'float'>\n",
      "10.0\n",
      "<class 'float'>\n",
      "21.0\n",
      "<class 'float'>\n"
     ]
    }
   ],
   "source": [
    "# Python program to demonstrate \n",
    "# implicit type Casting \n",
    "\n",
    "# Python automatically converts \n",
    "# a to int \n",
    "a = 7\n",
    "print(type(a)) \n",
    "\n",
    "# Python automatically converts \n",
    "# b to float \n",
    "b = 3.0\n",
    "print(type(b)) \n",
    "\n",
    "# Python automatically converts \n",
    "# c to float as it is a float addition \n",
    "c = a + b \n",
    "print(c) \n",
    "print(type(c))\n",
    "\n",
    "# Python automatically converts \n",
    "# d to float as it is a float multiplication\n",
    "d = a * b\n",
    "print(d)\n",
    "print(type(d))\n"
   ]
  },
  {
   "cell_type": "code",
   "execution_count": 12,
   "id": "34b16ba8-925b-409b-a3b3-fdab60563347",
   "metadata": {},
   "outputs": [],
   "source": [
    "#Q.  How do conditional statements work in Python? Illustrate with examples"
   ]
  },
  {
   "cell_type": "raw",
   "id": "772c5782-16a7-4002-83ee-1ca3c5334f0e",
   "metadata": {},
   "source": [
    "#The condition can be any expression that evaluates to a Boolean value (True or False). If the condition is True, the code block indented below the if statement will be executed. If the condition is False, the code block will be skipped.\n",
    "\n",
    "Here's an example of how to use an if statement to check if a number is positive"
   ]
  },
  {
   "cell_type": "code",
   "execution_count": 14,
   "id": "fa082dbe-ad40-41f1-aeea-82aeb6078d6d",
   "metadata": {},
   "outputs": [
    {
     "name": "stdout",
     "output_type": "stream",
     "text": [
      "The number is positive.\n"
     ]
    }
   ],
   "source": [
    "num = 5\n",
    "\n",
    "if num > 0:\n",
    "    print(\"The number is positive.\")"
   ]
  },
  {
   "cell_type": "code",
   "execution_count": 15,
   "id": "8e8d9da2-0844-411d-a34a-80bc0f2af729",
   "metadata": {},
   "outputs": [
    {
     "name": "stdout",
     "output_type": "stream",
     "text": [
      "The number is positive.\n"
     ]
    }
   ],
   "source": [
    "num = 5\n",
    "\n",
    "if num > 0:\n",
    "    print(\"The number is positive.\")"
   ]
  },
  {
   "cell_type": "code",
   "execution_count": 18,
   "id": "b6304436-3149-487f-87a2-a08bddb60564",
   "metadata": {},
   "outputs": [
    {
     "name": "stdout",
     "output_type": "stream",
     "text": [
      "Your grade is: B\n"
     ]
    }
   ],
   "source": [
    "score = 85\n",
    "\n",
    "if score >= 90:\n",
    "    grade = \"A\"\n",
    "elif score >= 80:\n",
    "    grade = \"B\"\n",
    "elif score >= 70:\n",
    "    grade = \"C\"\n",
    "elif score >= 60:\n",
    "    grade = \"D\"\n",
    "else:\n",
    "    grade = \"F\"\n",
    "\n",
    "print(\"Your grade is:\", grade)"
   ]
  },
  {
   "cell_type": "code",
   "execution_count": 19,
   "id": "b1b27d4b-00ae-4be3-b6c2-22e4e8ef689a",
   "metadata": {},
   "outputs": [],
   "source": [
    "#Q.  Describe the different types of loops in Python and their use cases with examples."
   ]
  },
  {
   "cell_type": "code",
   "execution_count": 20,
   "id": "7621505a-1995-4197-aaca-e979be33ee54",
   "metadata": {},
   "outputs": [],
   "source": [
    "#ans A loop is a control flow statement in Python that allows you to execute a piece of code repeatedly until a specific condition is met. Loops are necessary for operations that require repetitive execution, such as iterating through a Python list of items or doing calculations many times."
   ]
  },
  {
   "cell_type": "raw",
   "id": "214f9fbe-510e-4e25-bf1d-75a077254339",
   "metadata": {},
   "source": [
    "# Different Types of Loops in Python\n",
    "To understand the Loop Structures in Python, you need to know that there are 3 Types of Loops in Python, those are\n",
    "1 Python while loop\n",
    "2 Python for loop\n",
    "3 Python nested loop\n"
   ]
  },
  {
   "cell_type": "code",
   "execution_count": 24,
   "id": "4bcc6018-b31a-4662-bf95-3dc590b4813e",
   "metadata": {},
   "outputs": [
    {
     "name": "stdout",
     "output_type": "stream",
     "text": [
      "The count is: 0\n",
      "The count is: 1\n",
      "The count is: 2\n",
      "The count is: 3\n",
      "The count is: 4\n",
      "The count is: 5\n",
      "The count is: 6\n",
      "The count is: 7\n",
      "The count is: 8\n",
      "The count is: 9\n",
      "Good bye!\n"
     ]
    }
   ],
   "source": [
    "# python while loop\n",
    "count = 0\n",
    "while (count < 10):\n",
    " print ('The count is:', count)\n",
    " count = count + 1\n",
    "print (\"Good bye!\")\n"
   ]
  },
  {
   "cell_type": "code",
   "execution_count": 25,
   "id": "1700fa15-8621-4738-a6e9-9392c75eb882",
   "metadata": {},
   "outputs": [
    {
     "name": "stdout",
     "output_type": "stream",
     "text": [
      "Current Letter : P\n",
      "Current Letter : y\n",
      "Current Letter : t\n",
      "Current Letter : h\n",
      "Current Letter : o\n",
      "Current Letter : n\n",
      "Current fruit : guava\n",
      "Current fruit : apple\n",
      "Current fruit : mango\n",
      "Good bye!\n"
     ]
    }
   ],
   "source": [
    "#python for loop\n",
    "for letter in 'Python': # First Example\n",
    " print ('Current Letter :', letter)\n",
    "fruits = ['guava', 'apple', 'mango']\n",
    "for fruit in fruits: # Second Example\n",
    " print ('Current fruit :', fruit)\n",
    "print (\"Good bye!\")\n"
   ]
  },
  {
   "cell_type": "code",
   "execution_count": 26,
   "id": "60a4177f-c2a2-495a-80e8-ec4ea8ef4eda",
   "metadata": {},
   "outputs": [
    {
     "name": "stdout",
     "output_type": "stream",
     "text": [
      "2  is prime\n",
      "3  is prime\n",
      "5  is prime\n",
      "7  is prime\n",
      "11  is prime\n",
      "13  is prime\n",
      "17  is prime\n",
      "19  is prime\n",
      "23  is prime\n",
      "29  is prime\n",
      "31  is prime\n",
      "37  is prime\n",
      "41  is prime\n",
      "43  is prime\n",
      "47  is prime\n",
      "53  is prime\n",
      "59  is prime\n",
      "61  is prime\n",
      "67  is prime\n",
      "71  is prime\n",
      "73  is prime\n",
      "79  is prime\n",
      "83  is prime\n",
      "89  is prime\n",
      "97  is prime\n",
      "Good bye!\n"
     ]
    }
   ],
   "source": [
    "#python nested loop\n",
    "i = 2\n",
    "while(i < 100):\n",
    " j = 2\n",
    " while(j <= (i/j)):\n",
    "   if not(i%j): break\n",
    "   j = j + 1\n",
    " if (j > i/j) : print (i, \" is prime\")\n",
    " i = i + 1\n",
    "print (\"Good bye!\")\n"
   ]
  },
  {
   "cell_type": "code",
   "execution_count": null,
   "id": "4aa7d830-023b-4444-a800-79f34da38450",
   "metadata": {},
   "outputs": [],
   "source": []
  }
 ],
 "metadata": {
  "kernelspec": {
   "display_name": "Python 3 (ipykernel)",
   "language": "python",
   "name": "python3"
  },
  "language_info": {
   "codemirror_mode": {
    "name": "ipython",
    "version": 3
   },
   "file_extension": ".py",
   "mimetype": "text/x-python",
   "name": "python",
   "nbconvert_exporter": "python",
   "pygments_lexer": "ipython3",
   "version": "3.10.8"
  }
 },
 "nbformat": 4,
 "nbformat_minor": 5
}
